{
 "cells": [
  {
   "cell_type": "code",
   "execution_count": null,
   "id": "9d3d8ace",
   "metadata": {},
   "outputs": [],
   "source": [
    "import numpy as np\n",
    "import pandas as pd\n",
    "import matplotlib.pyplot as plt\n",
    "import seaborn as sns\n",
    "from scipy.stats import pearsonr\n",
    "from colorama import Fore"
   ]
  },
  {
   "cell_type": "code",
   "execution_count": null,
   "id": "e37c5313",
   "metadata": {
    "scrolled": true
   },
   "outputs": [],
   "source": [
    "data=pd.read_excel('/Users/omarhassan/Documents/GitHub/BigMart-Analysis/Dataset/final_dataset.xlsx',sheet_name='Original_Imputed')\n",
    "data.head()"
   ]
  },
  {
   "cell_type": "code",
   "execution_count": null,
   "id": "38d18eb9",
   "metadata": {},
   "outputs": [],
   "source": [
    "data.isnull().sum()"
   ]
  },
  {
   "cell_type": "markdown",
   "id": "0e4f9f96",
   "metadata": {},
   "source": [
    "### Exploratory Data Analysis"
   ]
  },
  {
   "cell_type": "code",
   "execution_count": null,
   "id": "17be9129",
   "metadata": {},
   "outputs": [],
   "source": [
    "def plots(col):\n",
    "    df1=data.groupby(col)\n",
    "    sales1=dict()\n",
    "    contents=data[col].unique()\n",
    "    for content in contents:\n",
    "        sale=0\n",
    "        sale=df1.get_group(content).Item_Outlet_Sales.sum()\n",
    "        sales1[content]=sale\n",
    "    \n",
    "    fig, ax = plt.subplots(figsize =(16, 9))\n",
    "    ax.barh(list(sales1.keys()), list(sales1.values()))\n",
    "    for s in ['top', 'bottom', 'left', 'right']:\n",
    "        ax.spines[s].set_visible(False)\n",
    "    ax.xaxis.set_ticks_position('none')\n",
    "    ax.yaxis.set_ticks_position('none')\n",
    "    ax.xaxis.set_tick_params(pad = 5)\n",
    "    ax.yaxis.set_tick_params(pad = 10)\n",
    "    ax.grid(color ='grey',\n",
    "        linestyle ='-.', linewidth = 0.5,\n",
    "        alpha = 0.2)\n",
    "    ax.invert_yaxis()\n",
    "    ax.set_title(col+' vs Item_Outlet_Sales',loc='left')\n",
    "    plt.show()"
   ]
  },
  {
   "cell_type": "code",
   "execution_count": null,
   "id": "b8a6b892",
   "metadata": {
    "scrolled": false
   },
   "outputs": [],
   "source": [
    "columns=['Item_Fat_Content','Item_Type','Outlet_Identifier','Outlet_Location_Type','Outlet_Type']\n",
    "for col in columns:\n",
    "    plots(col)"
   ]
  },
  {
   "cell_type": "markdown",
   "id": "da6bd711",
   "metadata": {},
   "source": [
    "It is seen that Low Fat items make more sales than regular.  \n",
    "Fruits and Vegetables type items make the most sales, followed by Snack Foods and then Household.  \n",
    "OUT027 is seen to have the most sales, followed by OUT035.\n",
    "Location Type of Tier 3 makes the most sales out of all the Tiers.\n",
    "Outlet Type of Supermarket Type1 makes the most sales by a huge margin compared to other outlet types.  \n",
    "\n",
    "On the other side,  \n",
    "Seafood makes the least sales. Followed by item type of Breakfast and Others.  \n",
    "OUT019 and OUT010 made the least sales among all outlets.  \n",
    "Tier 1 makes the least sales among all Tiers.  \n",
    "Grocery Store and and Supermarket Type2 make the least sales among all Outlet Types.\n",
    "\n",
    "Let us analyse why that is."
   ]
  },
  {
   "cell_type": "code",
   "execution_count": null,
   "id": "4b3ca172",
   "metadata": {},
   "outputs": [],
   "source": [
    "#Item_Fat_Content\n",
    "df1=data.groupby('Item_Fat_Content')\n",
    "print('Low Fat')\n",
    "print(\"Max Price: \",df1.get_group('LF').Item_MRP.max())\n",
    "print(\"Min Price: \",df1.get_group('LF').Item_MRP.min())\n",
    "print(\"Max Item Weight: \",df1.get_group('LF').Item_Weight.max())\n",
    "print(\"Min Item Weight: \",df1.get_group('LF').Item_Weight.min())\n",
    "print(\"Max Item Visibility: \",df1.get_group('LF').Item_Visibility.max())\n",
    "print(\"Min Item Visibility: \",df1.get_group('LF').Item_Visibility.min())\n",
    "print('Regular')\n",
    "print(\"Max Price: \",df1.get_group('REGULAR').Item_MRP.max())\n",
    "print(\"Min Price: \",df1.get_group('REGULAR').Item_MRP.min())\n",
    "print(\"Max Item Weight: \",df1.get_group('REGULAR').Item_Weight.max())\n",
    "print(\"Min Item Weight: \",df1.get_group('REGULAR').Item_Weight.min())\n",
    "print(\"Max Item Visibility: \",df1.get_group('REGULAR').Item_Visibility.max())\n",
    "print(\"Min Item Visibility: \",df1.get_group('REGULAR').Item_Visibility.min())"
   ]
  },
  {
   "cell_type": "markdown",
   "id": "96a0ca44",
   "metadata": {},
   "source": [
    "Other than some minute differences in Item Visibility (LF>REGULAR), the two have very less differences in terms of weight and MRP. It can be concluded that the customers prefer the lower fat content over regular fat content because of the fat content in these items respectively instead of other variables in the dataset."
   ]
  },
  {
   "cell_type": "code",
   "execution_count": null,
   "id": "e75aa0b4",
   "metadata": {},
   "outputs": [],
   "source": [
    "df1=data.groupby('Item_Type').get_group('Fruits and Vegetables')\n",
    "print('Fruits and Vegetables')\n",
    "print(\"Max Price: \",df1.Item_MRP.max())\n",
    "print(\"Min Price: \",df1.Item_MRP.min())\n",
    "print(\"Max Item Weight: \",df1.Item_Weight.max())\n",
    "print(\"Min Item Weight: \",df1.Item_Weight.min())\n",
    "print(\"Max Item Visibility: \",df1.Item_Visibility.max())\n",
    "print(\"Min Item Visibility: \",df1.Item_Visibility.min())\n",
    "df1=data.groupby('Item_Type').get_group('Seafood')\n",
    "print('Seafood')\n",
    "print(\"Max Price: \",df1.Item_MRP.max())\n",
    "print(\"Min Price: \",df1.Item_MRP.min())\n",
    "print(\"Max Item Weight: \",df1.Item_Weight.max())\n",
    "print(\"Min Item Weight: \",df1.Item_Weight.min())\n",
    "print(\"Max Item Visibility: \",df1.Item_Visibility.max())\n",
    "print(\"Min Item Visibility: \",df1.Item_Visibility.min())"
   ]
  },
  {
   "cell_type": "markdown",
   "id": "b32d7ff7",
   "metadata": {},
   "source": [
    "Other than differences in Item Visibility (Fruits and Vegetables>Seafood), the two have very less differences in terms of weight and MRP. It can be concluded that the customers purchase Fruits and Vegetables more than seafood due to higher personal preference. This may be because the customers have a higher preference for fruits and vegetables over seafood due to personal reasons or fators that connot be explained via the variables present in the dataset."
   ]
  },
  {
   "cell_type": "code",
   "execution_count": null,
   "id": "feb070be",
   "metadata": {},
   "outputs": [],
   "source": [
    "df1=data.groupby('Outlet_Identifier').get_group('OUT027')\n",
    "print('OUT027')\n",
    "print(df1['Item_Type'].value_counts())\n",
    "print('Sales: ',df1['Item_Outlet_Sales'].sum())\n",
    "print('\\n')\n",
    "df1=data.groupby('Outlet_Identifier').get_group('OUT019')\n",
    "print('OUT019')\n",
    "print(df1['Item_Type'].value_counts())\n",
    "df1=data.groupby('Outlet_Identifier').get_group('OUT010')\n",
    "print('Sales: ',df1['Item_Outlet_Sales'].sum())\n",
    "print('\\n')\n",
    "print('OUT010')\n",
    "print(df1['Item_Type'].value_counts())\n",
    "print('Sales: ',df1['Item_Outlet_Sales'].sum())"
   ]
  },
  {
   "cell_type": "markdown",
   "id": "615d4f76",
   "metadata": {},
   "source": [
    "OUT027 made the most sales with Fruits and Vegetables, which is the most preferred item type we found in the previous analysis. This lead them to make the most sales out of all the outlets."
   ]
  },
  {
   "cell_type": "code",
   "execution_count": null,
   "id": "c86d3339",
   "metadata": {},
   "outputs": [],
   "source": [
    "df1=data.groupby('Outlet_Location_Type').get_group('Tier 3')\n",
    "print('Tier 3')\n",
    "print(df1['Item_Type'].value_counts())\n",
    "print('Sales: ',df1['Item_Outlet_Sales'].sum())\n",
    "print('\\n')\n",
    "df1=data.groupby('Outlet_Location_Type').get_group('Tier 2')\n",
    "print('Tier 2')\n",
    "print(df1['Item_Type'].value_counts())\n",
    "print('Sales: ',df1['Item_Outlet_Sales'].sum())\n",
    "print('\\n')\n",
    "df1=data.groupby('Outlet_Location_Type').get_group('Tier 1')\n",
    "print('Tier 1')\n",
    "print(df1['Item_Type'].value_counts())\n",
    "print('Sales: ',df1['Item_Outlet_Sales'].sum())\n",
    "print('\\n')"
   ]
  },
  {
   "cell_type": "markdown",
   "id": "84a50235",
   "metadata": {},
   "source": [
    "The same pattern is noted here in Tier comparisons, The tiers that sold more Fruits and Vegetables have the higher sales."
   ]
  },
  {
   "cell_type": "code",
   "execution_count": null,
   "id": "2f823fff",
   "metadata": {},
   "outputs": [],
   "source": [
    "df1=data.groupby('Outlet_Type').get_group('Supermarket Type1')\n",
    "print('Supermarket Type1')\n",
    "print(df1['Item_Type'].value_counts())\n",
    "print('Sales: ',df1['Item_Outlet_Sales'].sum())\n",
    "print('\\n')\n",
    "df1=data.groupby('Outlet_Type').get_group('Supermarket Type2')\n",
    "print('Supermarket Type2')\n",
    "print(df1['Item_Type'].value_counts())\n",
    "print('Sales: ',df1['Item_Outlet_Sales'].sum())\n",
    "print('\\n')\n",
    "df1=data.groupby('Outlet_Type').get_group('Grocery Store')\n",
    "print('Grocery Store')\n",
    "print(df1['Item_Type'].value_counts())\n",
    "print('Sales: ',df1['Item_Outlet_Sales'].sum())\n",
    "print('\\n')"
   ]
  },
  {
   "cell_type": "markdown",
   "id": "b201bf16",
   "metadata": {},
   "source": [
    "The same pattern is again noticed here, further proving the analysis where Fruits and Vegetables play an important part in making sales."
   ]
  },
  {
   "cell_type": "code",
   "execution_count": null,
   "id": "585b47e7",
   "metadata": {},
   "outputs": [],
   "source": [
    "data[['Outlet_Type','Outlet_Location_Type']].value_counts()"
   ]
  },
  {
   "cell_type": "markdown",
   "id": "c0c053f1",
   "metadata": {},
   "source": [
    "Supermarket Type1 has the most sales and two location tiers, but then Grocery Store has the least sales and has two location tiers. One of the tiers available in Grocery Store is a higher tier than the ones available in Supermarkwet Type1, but then the sales made by each of them have a huge difference.  \n",
    "We will analyse why such a difference exists. "
   ]
  },
  {
   "cell_type": "code",
   "execution_count": null,
   "id": "ec4ff1d2",
   "metadata": {
    "scrolled": false
   },
   "outputs": [],
   "source": [
    "df1=data.groupby(['Outlet_Type','Outlet_Location_Type']).get_group(('Supermarket Type1','Tier 2'))\n",
    "print('Supermarket Type1 and Tier 2')\n",
    "print(df1['Item_Type'].value_counts())\n",
    "print('Sales: ',df1['Item_Outlet_Sales'].sum())\n",
    "print('\\n')\n",
    "df1=data.groupby(['Outlet_Type','Outlet_Location_Type']).get_group(('Supermarket Type1','Tier 1'))\n",
    "print('Supermarket Type1 and Tier 1')\n",
    "print(df1['Item_Type'].value_counts())\n",
    "print('Sales: ',df1['Item_Outlet_Sales'].sum())\n",
    "print('\\n')\n",
    "df1=data.groupby(['Outlet_Type','Outlet_Location_Type']).get_group(('Supermarket Type3','Tier 3'))\n",
    "print('Supermarket Type3 and Tier 3')\n",
    "print(df1['Item_Type'].value_counts())\n",
    "print('Sales: ',df1['Item_Outlet_Sales'].sum())\n",
    "print('\\n')\n",
    "df1=data.groupby(['Outlet_Type','Outlet_Location_Type']).get_group(('Supermarket Type1','Tier 3'))\n",
    "print('Supermarket Type1 and Tier 3')\n",
    "print(df1['Item_Type'].value_counts())\n",
    "print('Sales: ',df1['Item_Outlet_Sales'].sum())\n",
    "print('\\n')\n",
    "df1=data.groupby(['Outlet_Type','Outlet_Location_Type']).get_group(('Supermarket Type2','Tier 3'))\n",
    "print('Supermarket Type2 and Tier 3')\n",
    "print(df1['Item_Type'].value_counts())\n",
    "print('Sales: ',df1['Item_Outlet_Sales'].sum())\n",
    "print('\\n')\n",
    "df1=data.groupby(['Outlet_Type','Outlet_Location_Type']).get_group(('Grocery Store','Tier 3'))\n",
    "print('Grocery Store and Tier 3')\n",
    "print(df1['Item_Type'].value_counts())\n",
    "print('Sales: ',df1['Item_Outlet_Sales'].sum())\n",
    "print('\\n')\n",
    "df1=data.groupby(['Outlet_Type','Outlet_Location_Type']).get_group(('Grocery Store','Tier 1'))\n",
    "print('Grocery Store and Tier 1')\n",
    "print(df1['Item_Type'].value_counts())\n",
    "print('Sales: ',df1['Item_Outlet_Sales'].sum())\n",
    "print('\\n')"
   ]
  },
  {
   "cell_type": "markdown",
   "id": "499c7d93",
   "metadata": {},
   "source": [
    "Supermarket Type1 and tier 2 makes the most sales as they sell the most of Fruits and vegetables and Snack Foods, two of the item types that have been analysed to greatly influence sales. If other Outlet types and location type pairs focus more on the sales of these types of items, they can make more sales. It is seen that the grocery store have much lesser sales when compared to supermarket type1, if they manage to increase the number of sales in the influencial item types like Fruits and vegetables, Snack Foods, Household, etc, they can improve their sales. "
   ]
  },
  {
   "cell_type": "markdown",
   "id": "d1fb9337",
   "metadata": {},
   "source": [
    "## Conclusion\n",
    "\n",
    "The Item Types of Fruits and vegetables, Snack foods & Household greatly influence the Outlet Sales. Although Tier 3 outlets are plenty in number, tier 2 seems to make more sales than tier 3 and tier 1. Factors that arent present in the dataset might influence greater sales in this tier than the other tiers.Preferably opening Tier 1 location types in other Outlet types might greatly improve their Sales. It is also seen that Tier 1 and Tier 2 location types make more sales than tier 3, so preferably replacing tier 3 location types with tier 2 or tier 1 might greatly increase sales made by the outlet due to factors not present in this dataset."
   ]
  },
  {
   "cell_type": "markdown",
   "id": "c9a535c5",
   "metadata": {},
   "source": [
    "## Model Selection"
   ]
  },
  {
   "cell_type": "code",
   "execution_count": null,
   "id": "d4aa77b9",
   "metadata": {},
   "outputs": [],
   "source": [
    "sns.pairplot(data)"
   ]
  },
  {
   "cell_type": "markdown",
   "id": "3fa7bf56",
   "metadata": {},
   "source": [
    "The data has a varied set of distributions followed by each of these variables in the dataset. Moreover Linearity is not to be seen between any of these variables and the dependent variable and normality is not followed by the data. So we cannot use Multiple Linear Regression model for this dataset. We are first going to attempt using the Support Vector Regression Model on this dataset."
   ]
  },
  {
   "cell_type": "code",
   "execution_count": null,
   "id": "6a3a05b0",
   "metadata": {},
   "outputs": [],
   "source": [
    "data.columns"
   ]
  },
  {
   "cell_type": "code",
   "execution_count": null,
   "id": "ffcfa99f",
   "metadata": {},
   "outputs": [],
   "source": [
    "cat=['Item_Identifier','Item_Fat_Content','Item_Type','Outlet_Identifier', 'Outlet_Location_Type', 'Outlet_Type']\n",
    "metric=['Item_Weight','Item_Visibility','Item_MRP','Outlet_Establishment_Year','Item_Outlet_Sales']"
   ]
  },
  {
   "cell_type": "code",
   "execution_count": null,
   "id": "3e469116",
   "metadata": {},
   "outputs": [],
   "source": [
    "data_conv=pd.concat([data[metric],pd.get_dummies(data[cat],drop_first=True)],axis=1).copy()\n",
    "data_conv.head()"
   ]
  },
  {
   "cell_type": "code",
   "execution_count": null,
   "id": "60316483",
   "metadata": {},
   "outputs": [],
   "source": [
    "x=data_conv.drop(['Item_Outlet_Sales'],axis=1).copy()\n",
    "y=data_conv['Item_Outlet_Sales'].copy()"
   ]
  },
  {
   "cell_type": "code",
   "execution_count": null,
   "id": "64713b3b",
   "metadata": {},
   "outputs": [],
   "source": [
    "from sklearn.model_selection import train_test_split\n",
    "x_train,x_test,y_train,y_test=train_test_split(x,y,test_size=0.25,random_state=10)"
   ]
  },
  {
   "cell_type": "code",
   "execution_count": null,
   "id": "ad3ad0b0",
   "metadata": {},
   "outputs": [],
   "source": [
    "from sklearn.ensemble import RandomForestRegressor\n",
    "from sklearn.metrics import r2_score\n",
    "from sklearn.model_selection import GridSearchCV\n",
    "regressor= RandomForestRegressor(oob_score=True,random_state=10)\n",
    "parameters={\n",
    "    'max_features':['sqrt','log2',0.3,0.5,0.7,0.9],\n",
    "    'n_estimators':[100,300,500],\n",
    "    'max_depth':[3,5,7,9]\n",
    "}\n",
    "gridsearch=GridSearchCV(regressor,parameters)\n",
    "gridsearch.fit(x_train,y_train)"
   ]
  },
  {
   "cell_type": "code",
   "execution_count": null,
   "id": "b8da860c",
   "metadata": {},
   "outputs": [],
   "source": []
  },
  {
   "cell_type": "code",
   "execution_count": null,
   "id": "84e6ef34",
   "metadata": {},
   "outputs": [],
   "source": [
    "print('oob score: ',regressor.oob_score_)\n",
    "y_pred=regressor.predict(x_test)\n",
    "print('Test Set: ',r2_score(y_test,y_pred))\n",
    "y_train_pred=regressor.predict(x_train)\n",
    "print('Train Set: ',r2_score(y_train,y_train_pred))"
   ]
  }
 ],
 "metadata": {
  "kernelspec": {
   "display_name": "Python 3 (ipykernel)",
   "language": "python",
   "name": "python3"
  },
  "language_info": {
   "codemirror_mode": {
    "name": "ipython",
    "version": 3
   },
   "file_extension": ".py",
   "mimetype": "text/x-python",
   "name": "python",
   "nbconvert_exporter": "python",
   "pygments_lexer": "ipython3",
   "version": "3.10.9"
  }
 },
 "nbformat": 4,
 "nbformat_minor": 5
}
